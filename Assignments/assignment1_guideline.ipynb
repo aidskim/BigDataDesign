### Guideline for Assignment 1
